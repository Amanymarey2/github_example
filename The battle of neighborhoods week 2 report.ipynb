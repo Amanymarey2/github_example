{
 "cells": [
  {
   "cell_type": "markdown",
   "metadata": {},
   "source": [
    "#Introduction\n",
    "\n",
    "#Background\n",
    "\n",
    "New Haven is a coastal city in Connecticut state, US. New Haven is the home of Yale University. Yale University is a prestigious university which attracts students from the whole world. New Haven's population is diverse and it has always been known as a city of immigrants. Also, New Haven was named as the best foodie city in US with diverse ethnic restaurants.\n",
    "\n",
    "#Buisness problem:\n",
    "\n",
    "As New Haven's population is diverse with large number of international students, so opening an ethnic restaurant could be a profitable buisness. At this project, we are exploring New Haven City to find the best place to open a Mexican restaurant. We are looking for a place with high Hispanic population and high income rate."
   ]
  },
  {
   "cell_type": "markdown",
   "metadata": {},
   "source": [
    "#Data sources\n",
    "\n",
    "1- We have got New Haven neighborhood demographic data from [DataHaven](https://www.ctdatahaven.org/data-resources/new-haven-neighborhood-profile-csv-2016-5y). We will use data to get the hispanic rate and income rate for each neighborhood. Also, we will use it to get the neighborhood coordinates.\n",
    "\n",
    "2-We will use Foursquare app to explore places in the neighborhood, then clustering them."
   ]
  },
  {
   "cell_type": "markdown",
   "metadata": {},
   "source": [
    "#Methodology\n",
    "\n",
    "##Data preparation \n",
    "\n",
    "Our demographic data set consists of the neighborhood name and detailed race, age and income data as following \n",
    "<img src=\"Screenshot (246).png\" />\n"
   ]
  },
  {
   "cell_type": "markdown",
   "metadata": {},
   "source": [
    "1- We have added address column by adding New Haven, CT, US to Neighborhood column to get the address coordinates\n",
    "<img src=\"Screenshot (248).png\" style=\"height:250px, width:300px\">"
   ]
  },
  {
   "cell_type": "markdown",
   "metadata": {},
   "source": [
    "2- get the address coordinates using geocoder\n",
    "<img src=\"Screenshot (250).png\" style=\"height:250px, width:300px\">"
   ]
  },
  {
   "cell_type": "markdown",
   "metadata": {},
   "source": []
  },
  {
   "cell_type": "markdown",
   "metadata": {},
   "source": [
    "3- We have selected target columns and categorized hispanic rate to high, moderate and low"
   ]
  },
  {
   "cell_type": "markdown",
   "metadata": {},
   "source": [
    "##Data Visualization\n",
    "\n",
    "1- We have visualized the hispanic and low income rate for each neighborhood\n",
    "<img src=\"Screenshot (252).png\" style=\"height:250px, width:300px\">"
   ]
  },
  {
   "cell_type": "markdown",
   "metadata": {},
   "source": [
    "We can observe that 'Fair Haven' the neighborhood with the highest hispanic rate has realtively high low income rate"
   ]
  },
  {
   "attachments": {},
   "cell_type": "markdown",
   "metadata": {},
   "source": [
    "2- We have visualized the neighborhood on map colored by hispanic rate; Red for high, green for moderate and blue for low\n",
    "<img src=\"Screenshot (254).png\" style=\"height:250px, width:300px\">"
   ]
  },
  {
   "cell_type": "markdown",
   "metadata": {},
   "source": [
    "Lastly, we have subsetted neighborhood with high and moderate hispanic rate for clustering"
   ]
  },
  {
   "attachments": {},
   "cell_type": "markdown",
   "metadata": {},
   "source": [
    "##Neighborhood venues and categories\n",
    "\n",
    "1-We have used Foursquare API to get venues and venues categories within 500 radius\n",
    "<img src=\"Screenshot (256).png\" style=\"height:250px, width:300px\">"
   ]
  },
  {
   "cell_type": "markdown",
   "metadata": {},
   "source": [
    "2- We have got the categories numbers for each neighborhood\n",
    "<img src=\"Screenshot (258).png\" style=\"height:250px, width:300px\">"
   ]
  },
  {
   "cell_type": "markdown",
   "metadata": {},
   "source": [
    "##Data Analysis\n",
    "\n",
    "In our analysis, we are clustering neighborhood along with the most common 10 venue categories of each neighborhood using K means clustering. Based on the cluster categories and income rate, we will choose the best neighborhood for the Mexican restaurant."
   ]
  },
  {
   "cell_type": "markdown",
   "metadata": {},
   "source": [
    "1- As our data is categorical, we will use one hot coding method to find the relation between venue categories and neighborhood, then we will group it by neighborhood\n",
    "<img src=\"Screenshot (260).png\" style=\"height:250px, width:300px\">"
   ]
  },
  {
   "cell_type": "markdown",
   "metadata": {},
   "source": [
    "2-Then, we will get the most common 10 venues categories for each neighborhood\n",
    "<img src=\"Screenshot (262).png\" style=\"height:250px, width:300px\">"
   ]
  },
  {
   "cell_type": "markdown",
   "metadata": {},
   "source": [
    "##Clustering\n",
    "We have clustered data into 5 clusters using K means, then we have visualized cluters on the map\n",
    "<img src=\"Screenshot (264).png\" style=\"height:250px, width:300px\">"
   ]
  },
  {
   "cell_type": "markdown",
   "metadata": {},
   "source": [
    "As we can observe, we have 4 neighborhoods in one cluster, 2 neighborhoods in another cluster, and the last 3, each one in a unique cluster. Let's explore the 5 clusters."
   ]
  },
  {
   "attachments": {},
   "cell_type": "markdown",
   "metadata": {},
   "source": [
    "####Cluster 1\n",
    "<img src=\"Screenshot (267).png\" style=\"height:250px, width:300px\">"
   ]
  },
  {
   "cell_type": "markdown",
   "metadata": {},
   "source": [
    "The first cluster includes Fair haven. The low income rate is moderate. There is a Cuban restaurant which could be similar to Mexican. Mexican cusine could be well presented at this cluster."
   ]
  },
  {
   "cell_type": "markdown",
   "metadata": {},
   "source": [
    "####Cluster 2\n",
    "<img src=\"Screenshot (270).png\" style=\"height:250px, width:300px\">"
   ]
  },
  {
   "cell_type": "markdown",
   "metadata": {},
   "source": [
    "We can observe that low income rate is relatively high in cluster 2 neighborhood except New Haven. Ehnic restaurants in general and Mexican restaurants are well represented at this cluster."
   ]
  },
  {
   "cell_type": "markdown",
   "metadata": {},
   "source": [
    "####Cluster 3\n",
    "<img src=\"Screenshot (272).png\" style=\"height:250px, width:300px\">"
   ]
  },
  {
   "cell_type": "markdown",
   "metadata": {},
   "source": [
    "Cluster 3 includes Hill neighborhood with very high low income rate. Also, ethnic restaurants similar to Mexican are well presented. I think we have to discard this neighborhood."
   ]
  },
  {
   "cell_type": "markdown",
   "metadata": {},
   "source": [
    "####Cluster 4\n",
    "<img src=\"Screenshot (274).png\" style=\"height:250px, width:300px\">"
   ]
  },
  {
   "cell_type": "markdown",
   "metadata": {},
   "source": [
    "Cluster 4 includes Annex and Woster Square. The low income rate is relatively low. Also, Mexican restaurants are not well represented. I think that those neighborhoods are good candidates for opening new Mexican restaurant. "
   ]
  },
  {
   "cell_type": "markdown",
   "metadata": {},
   "source": [
    "####Cluster 5\n",
    "<img src=\"Screenshot (276).png\" style=\"height:250px, width:300px\">"
   ]
  },
  {
   "cell_type": "markdown",
   "metadata": {},
   "source": [
    "Cluster 5 includes Quinnipiac Meadows. The low income rate is very low as well as Mexican restaurants are not well represented. Cluster 5 is also a good candidate."
   ]
  },
  {
   "cell_type": "markdown",
   "metadata": {},
   "source": [
    "##Results\n",
    "\n",
    "At this project, we have used K means clustering to cluster neighborhood with their most 10 common venue categories.\n",
    "We have found that Cluster 4 and Cluster 5 are a good neighborhoods to open a new Mexican restaurant for two reasons:\n",
    "\n",
    "1-They have relatively low income rate.\n",
    "2-Mexican and similar ethnic restaurants are not well represented at these neighborhood. In another word, there are no big competitors at these areas."
   ]
  },
  {
   "cell_type": "markdown",
   "metadata": {},
   "source": [
    "##Discussion:\n",
    "New Haven is good place to go with food buisness thanks to its diverse population and international students living there. At this project, we are trying to find the best neighborhood to open a Mexican restaurant. We have collected demographic data, neighborhood data and used them to get the most common venues categories for each neighborhood. Our target neighborhood is the neighborhood with high hispanic rate, high income rate and low competitors.\n",
    "We have used K means clustering to cluster neighborhoods based on venue categories. We have found that Cluster 4 and cluster 5 includes the neighborhoods which best match our target neighborhood."
   ]
  },
  {
   "cell_type": "markdown",
   "metadata": {},
   "source": [
    "##Conclusion\n",
    "If a buisness man is interested in opening a Mexican restaurant in New Haven, it is advisable to open it in Wooster Square or Annex or Quinnipiac Meadows"
   ]
  }
 ],
 "metadata": {
  "kernelspec": {
   "display_name": "Python 3",
   "language": "python",
   "name": "python3"
  },
  "language_info": {
   "codemirror_mode": {
    "name": "ipython",
    "version": 3
   },
   "file_extension": ".py",
   "mimetype": "text/x-python",
   "name": "python",
   "nbconvert_exporter": "python",
   "pygments_lexer": "ipython3",
   "version": "3.7.6"
  }
 },
 "nbformat": 4,
 "nbformat_minor": 4
}
